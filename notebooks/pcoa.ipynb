{
 "cells": [
  {
   "cell_type": "code",
   "execution_count": 1,
   "id": "99b7752f-49ec-497f-b7e9-7ad2b35e3bc0",
   "metadata": {},
   "outputs": [],
   "source": [
    "import os\n",
    "import re\n",
    "import pandas as pd\n",
    "import numpy as np\n",
    "import qiime2\n",
    "from qiime2 import Artifact\n",
    "from qiime2.plugins import metadata, feature_table, diversity, emperor\n",
    "from q2_emperor import plot, procrustes_plot, biplot, generic_plot\n",
    "from scipy.spatial.distance import squareform, pdist\n",
    "import skbio"
   ]
  },
  {
   "cell_type": "code",
   "execution_count": 2,
   "id": "46c31e1f-2f8e-4aee-8a22-dea7110fb57a",
   "metadata": {},
   "outputs": [
    {
     "name": "stdout",
     "output_type": "stream",
     "text": [
      "Dockerfile  Makefile  README.md  api  notebooks  run_server.sh\n"
     ]
    }
   ],
   "source": [
    "!ls .."
   ]
  },
  {
   "cell_type": "code",
   "execution_count": 4,
   "id": "bfa3b8a8-4ae6-424f-89f9-78206908cad1",
   "metadata": {},
   "outputs": [],
   "source": [
    "# Change directory to import function from api\n",
    "os.chdir('..')"
   ]
  },
  {
   "cell_type": "code",
   "execution_count": 5,
   "id": "d6c56cda-646f-463e-aa74-4002259170a0",
   "metadata": {},
   "outputs": [],
   "source": [
    "from api.utils import qiime2PCoA\n",
    "from api.gnps import Proteosafe"
   ]
  },
  {
   "cell_type": "code",
   "execution_count": 6,
   "id": "7f7bcaa2-8f54-4b0b-9579-aeb2d7a2b427",
   "metadata": {},
   "outputs": [
    {
     "name": "stderr",
     "output_type": "stream",
     "text": [
      "/ClusterApp/api/utils.py:17: FutureWarning: The default value of regex will change from True to False in a future version.\n",
      "  sample_metadata.columns = sample_metadata.columns.str.replace('\\s', '_')\n"
     ]
    },
    {
     "data": {
      "text/plain": [
       "'notebooks/a0b4377f6e4540268602c30fedf69b0b/a0b4377f6e4540268602c30fedf69b0b.qzv'"
      ]
     },
     "execution_count": 6,
     "metadata": {},
     "output_type": "execute_result"
    }
   ],
   "source": [
    "taskid = 'a0b4377f6e4540268602c30fedf69b0b'\n",
    "# Can you see the available options in the code? We have to create a \n",
    "# drop-down menu for the user to choose\n",
    "workflow = 'FBMN'\n",
    "metric = 'euclidean'\n",
    "gnps_result = Proteosafe(taskid, workflow)\n",
    "gnps_result.get_gnps()\n",
    "\n",
    "if not os.path.exists(f'notebooks/{taskid}'):\n",
    "    os.mkdir(f'notebooks/{taskid}')\n",
    "\n",
    "pcoa_obj = qiime2PCoA(gnps_result.meta, gnps_result.feat,\n",
    "                      out_dir=f'notebooks/{taskid}',\n",
    "                      metric=metric)\n",
    "pcoa_file = f'notebooks/{taskid}/{taskid}.qzv'\n",
    "pcoa_obj.visualization.save(pcoa_file)"
   ]
  },
  {
   "cell_type": "code",
   "execution_count": 7,
   "id": "593f3158-48a0-4e6b-ae6b-8d4d8fe3f3f7",
   "metadata": {},
   "outputs": [
    {
     "name": "stdout",
     "output_type": "stream",
     "text": [
      "a0b4377f6e4540268602c30fedf69b0b.qzv\n"
     ]
    }
   ],
   "source": [
    "!ls notebooks/a0b4377f6e4540268602c30fedf69b0b"
   ]
  },
  {
   "cell_type": "code",
   "execution_count": 8,
   "id": "12b298de-2854-43c5-9f8f-9269f3eba0b9",
   "metadata": {},
   "outputs": [
    {
     "name": "stdout",
     "output_type": "stream",
     "text": [
      "/bin/sh: 1: firefox: not found\n"
     ]
    }
   ],
   "source": [
    "# open the html file on your computer\n",
    "# copy it if necessary\n",
    "!firefox a0b4377f6e4540268602c30fedf69b0b/index.html"
   ]
  },
  {
   "cell_type": "code",
   "execution_count": null,
   "id": "c0329ef0-6244-455d-b3a0-7c4512a3cf75",
   "metadata": {},
   "outputs": [],
   "source": []
  }
 ],
 "metadata": {
  "kernelspec": {
   "display_name": "Python 3 (ipykernel)",
   "language": "python",
   "name": "python3"
  },
  "language_info": {
   "codemirror_mode": {
    "name": "ipython",
    "version": 3
   },
   "file_extension": ".py",
   "mimetype": "text/x-python",
   "name": "python",
   "nbconvert_exporter": "python",
   "pygments_lexer": "ipython3",
   "version": "3.8.15"
  }
 },
 "nbformat": 4,
 "nbformat_minor": 5
}
